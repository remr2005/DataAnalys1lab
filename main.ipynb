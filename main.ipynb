{
 "cells": [
  {
   "cell_type": "markdown",
   "metadata": {},
   "source": [
    "Напишите модуль для нахождения НОД числа 8 и заданного 10-значного числа, не используя арифметические операции, но с использованием функций пользователя. У нас может получится только 8,4,2,1. Ответ на это задание кроется в бинарной записи, а именно в трех последних битах. Количество нулей(до первого не не нулевого бита из трех последних) показывает степень двойки на которую можно поделить число. Это можно сделать либо с помощью бинарных операций, либо манипуляциями со строкой."
   ]
  },
  {
   "cell_type": "code",
   "execution_count": 11,
   "metadata": {},
   "outputs": [
    {
     "name": "stdout",
     "output_type": "stream",
     "text": [
      "8\n"
     ]
    }
   ],
   "source": [
    "def gcd_eight(a):\n",
    "    # Проверка на коректность ввода\n",
    "    try:\n",
    "        a = a<<0\n",
    "    except Exception as e:\n",
    "        print(f\"incorrect input, error:{e}\")\n",
    "        return\n",
    "    if not (9999999999 >= a >= 1000000000 or -9999999999 >= a >= -1000000000):\n",
    "        print(\"incorrect input\")\n",
    "        return\n",
    "    # Вычислям НОД\n",
    "    s = 1\n",
    "    # Пока последний бит нулевой\n",
    "    while(a&1==0):\n",
    "        # Двигаемся к следующему биту\n",
    "        a = a>> 1\n",
    "        # Сдвигаем бит влево(тоже что и *2)\n",
    "        s = s << 1\n",
    "        # Если s == 8, то это максимум, останавливаемся\n",
    "        if s==8:\n",
    "            break\n",
    "    return s\n",
    "\n",
    "# более короткий путь(проверка осталась бы той же)\n",
    "def gcd_eight_2(a): return 1<<((bin(a)[-3:]).rfind(\"0\"))\n",
    "\n",
    "\n",
    "print(gcd_eight(int(input(\"Введите ваше число\"))))"
   ]
  },
  {
   "cell_type": "markdown",
   "metadata": {},
   "source": [
    "Напишите код, заменяющий серию одинаковых гласных в вводимой строке на одну эту гласную."
   ]
  },
  {
   "cell_type": "code",
   "execution_count": 12,
   "metadata": {},
   "outputs": [
    {
     "name": "stdout",
     "output_type": "stream",
     "text": [
      "уввегге\n"
     ]
    }
   ],
   "source": [
    "def remove_twice(s: str) -> str:\n",
    "    vowels = \"ёуеыаоэяию\"\n",
    "    i = 0\n",
    "    res = \"\"\n",
    "    s=s.lower()\n",
    "    # проходимся по введенной строке\n",
    "    while i < len(s):\n",
    "        # если символ гласная\n",
    "        if s[i] in vowels:\n",
    "            # и если она последняя то выходим из цикла\n",
    "            if i+1==len(s):break\n",
    "            # если она не последняя то проходимся по второму циклу сдвигая i\n",
    "            while s[i]==s[i+1]:\n",
    "                i+=1\n",
    "                # и если случайно доходим до конца то выходим из цикла\n",
    "                if i+1==len(s):break\n",
    "        # добавляем символ\n",
    "        res+=s[i]\n",
    "        i+=1\n",
    "    return res\n",
    "\n",
    "print(remove_twice(input(\"Введите вашу строку\")))"
   ]
  },
  {
   "cell_type": "markdown",
   "metadata": {},
   "source": [
    "Напишите генератор простого числа, ближайшего к введенному натуральному числу. Воспользуюсь тестом Миллера-Рабина основанного на теореме Ферма, но так как этот тест вероятностный, буду дополнительно проверять более медленным, но точным тестом. Буду постпенно идти вперед и назад, пока не найду простое число."
   ]
  },
  {
   "cell_type": "code",
   "execution_count": 2,
   "metadata": {},
   "outputs": [
    {
     "name": "stdout",
     "output_type": "stream",
     "text": [
      "11\n"
     ]
    }
   ],
   "source": [
    "import random\n",
    "import math\n",
    "from time import time\n",
    "\n",
    "\n",
    "def gen(n):\n",
    "    # Велчина шага\n",
    "    i = 0\n",
    "    while (True):\n",
    "        # Проверяем число с шагом вперед и назад\n",
    "        if miller_rabin_test(n+i):\n",
    "            if slow_is_prime(n+i):\n",
    "                return n+i\n",
    "            else:\n",
    "                print(\"error in miller test\")\n",
    "        elif miller_rabin_test(n-i):\n",
    "            if slow_is_prime(n-i):\n",
    "                return n-i\n",
    "            else:\n",
    "                print(\"error in miller test\")\n",
    "        # Если не нашли, увеличиваем шаг.\n",
    "        i+=1\n",
    "\n",
    "# Точный тест\n",
    "def slow_is_prime(n):\n",
    "    # Ищем число до корня\n",
    "    for i in range(2,int(n**0.5)):\n",
    "        if n%i==0:\n",
    "            return False\n",
    "    return True\n",
    "\n",
    "# Тест Миллера-Рабина\n",
    "def miller_rabin_test(n):\n",
    "    s = 0\n",
    "    d = n - 1\n",
    "    # Ищем нечетное d \n",
    "    while d % 2 == 0:\n",
    "        d //= 2\n",
    "        s += 1\n",
    "    \n",
    "    # Основной цикл теста\n",
    "    for _ in range(int(math.log2(n))):\n",
    "        f = False\n",
    "        a = random.randint(2, n - 2)\n",
    "        x = pow(a, d, n) \n",
    "        \n",
    "        if x == 1 or x == n - 1:\n",
    "            continue\n",
    "        for _ in range(s - 1):\n",
    "            x = pow(x, 2, n)\n",
    "            if x == n - 1:\n",
    "                f = True\n",
    "                break\n",
    "            elif x == 1:\n",
    "                return False\n",
    "        if not f:\n",
    "            return False\n",
    "    \n",
    "    return True\n",
    "\n",
    "print(gen(int(input(\"Введите число\"))))"
   ]
  },
  {
   "cell_type": "markdown",
   "metadata": {},
   "source": [
    "Тест для генератора, проверяем верность и время выполнения."
   ]
  },
  {
   "cell_type": "code",
   "execution_count": 4,
   "metadata": {},
   "outputs": [
    {
     "name": "stdout",
     "output_type": "stream",
     "text": [
      "На вход идёт 100, ожидается 101\n",
      "Тест пройден\n",
      "Время прохождения теста 0:00:00.001002 секунд\n",
      "На вход идёт 6, ожидается 7\n",
      "Тест пройден\n",
      "Время прохождения теста 0:00:00 секунд\n",
      "На вход идёт 42, ожидается 43\n",
      "Тест пройден\n",
      "Время прохождения теста 0:00:00 секунд\n",
      "На вход идёт 66, ожидается 67\n",
      "Тест пройден\n",
      "Время прохождения теста 0:00:00 секунд\n",
      "На вход идёт 98, ожидается 99\n",
      "Тест не пройден\n",
      "Время прохождения теста 0:00:00 секунд\n",
      "На вход идёт 10000000000000000, ожидается 10000000000000061\n",
      "Тест пройден\n",
      "Время прохождения теста 0:00:05.233140 секунд\n",
      "Все тесты пройденны\n"
     ]
    }
   ],
   "source": [
    "from datetime import datetime\n",
    "\n",
    "def test_gen():\n",
    "    a = {100:101, 6:7, 100:101, 42:43, 66:67,98:99,10**16:10000000000000061}\n",
    "    for i in a.keys():\n",
    "        t_b = datetime.now()\n",
    "        print(f\"На вход идёт {i}, ожидается {a[i]}\")\n",
    "        g = gen(i)\n",
    "        if g == a[i]:\n",
    "            print(\"Тест пройден\")\n",
    "        else:\n",
    "            print(\"Тест не пройден\")\n",
    "        t_e = datetime.now()\n",
    "        print(f\"Время прохождения теста {t_e-t_b} секунд\")\n",
    "    print(\"Все тесты пройденны\")\n",
    "\n",
    "test_gen()"
   ]
  },
  {
   "cell_type": "markdown",
   "metadata": {},
   "source": [
    "Для произвольно заданного двухуровневого списка из целых, вещественных и комплексных чисел, выберите только комплексные числа и запишите их в кортеж. Воспользуемся функцией type(), пройдясь по двумерному списку."
   ]
  },
  {
   "cell_type": "code",
   "execution_count": 5,
   "metadata": {},
   "outputs": [
    {
     "name": "stdout",
     "output_type": "stream",
     "text": [
      "((1+7j),)\n"
     ]
    }
   ],
   "source": [
    "def only_complex(mat):\n",
    "    # Итоговый список\n",
    "    res = [] \n",
    "    for j in range(2):\n",
    "        # Проходимся по строчкам оставляя только комплексные\n",
    "        res += [mat[j][i] for i in range(len(mat[0])) if type(complex()) == type(mat[j][i])]\n",
    "    # Преобразуем список в кортеж и возвращаем\n",
    "    return tuple(res)\n",
    "\n",
    "print(only_complex([[1,2.0,4],[1+7j,4,True]]))"
   ]
  },
  {
   "cell_type": "markdown",
   "metadata": {},
   "source": [
    "Создайте список из N (аргумент функции) первых элементов последовательности частичных сумм ряда Фибоначчи. Выведите его как итератор (используйте yield). А так же с помощью итератора, найдите индекс первого элемента последовательности частичных сумм ряда Фибоначчи, содержащего более, чем заданное число, значащих цифр. "
   ]
  },
  {
   "cell_type": "code",
   "execution_count": 5,
   "metadata": {},
   "outputs": [
    {
     "name": "stdout",
     "output_type": "stream",
     "text": [
      "[0, 1, 2, 4, 7, 12, 20, 33, 54, 88, 143, 232, 376, 609, 986, 1596, 2583, 4180, 6764, 10945]\n",
      "10\n"
     ]
    }
   ],
   "source": [
    "from functools import lru_cache\n",
    "\n",
    "def FibSums(n: int):\n",
    "    # сумма \n",
    "    sum = 0\n",
    "    # первый эл\n",
    "    fr = 0\n",
    "    # второй эл\n",
    "    sc = 1\n",
    "    # главный цикл\n",
    "    for i in range(n):\n",
    "        # возвращаем нуль при, нуле))\n",
    "        if i == 0:\n",
    "            yield 0\n",
    "        else:\n",
    "            # иначе считаем сумму\n",
    "            sum += fr\n",
    "            yield sum\n",
    "        fr, sc = sc, fr + sc\n",
    "    \n",
    "def find_in_fibonachi(n: int):\n",
    "    j = 0\n",
    "    fib_gen = FibSums(n)\n",
    "    while True:\n",
    "        i = next(fib_gen)\n",
    "        if len(str(i)) > len(str(n)):\n",
    "            return j\n",
    "        j += 1\n",
    "\n",
    "print([i for i in FibSums(int(input(\"Частичная сумма до числа:\")))])\n",
    "print(find_in_fibonachi(int(input(\"Введите число для которого будет найден номер первого элемента последовательности частичных сумм ряда Фибоначчи, содержащего более, чем заданное число, значащих цифр.\"))))"
   ]
  },
  {
   "cell_type": "markdown",
   "metadata": {},
   "source": [
    "Создайте класс Frac, типичный экземпляр которого является обыкновенной дробью. Опишите методы обращения, сложения и умножения. "
   ]
  },
  {
   "cell_type": "code",
   "execution_count": 15,
   "metadata": {},
   "outputs": [
    {
     "name": "stdout",
     "output_type": "stream",
     "text": [
      "5/6\n",
      "50/123\n"
     ]
    }
   ],
   "source": [
    "from math import gcd\n",
    "\n",
    "class Frac:\n",
    "    numerator = 0\n",
    "    denominator = 0\n",
    "    def __init__(self, a: int, b: int):\n",
    "        self.numerator = a\n",
    "        if b == 0:\n",
    "            return ZeroDivisionError\n",
    "        self.denominator = b\n",
    "        self.remove_minus()\n",
    "        self.reduction()\n",
    "        pass\n",
    "    # печатает число\n",
    "    def print_me(self):\n",
    "        print(f\"{self.numerator}/{self.denominator}\")\n",
    "    # метод суммы\n",
    "    def sum(self, a):\n",
    "        # Вычисляем числитель\n",
    "        self.numerator = self.numerator*a.denominator + a.numerator*self.denominator\n",
    "        # вычисляем знаменатель\n",
    "        self.denominator *= a.denominator\n",
    "        self.remove_minus()\n",
    "        self.reduction()\n",
    "    # метод умножение\n",
    "    def multiply(self, a):\n",
    "        self.numerator*=a.numerator\n",
    "        self.denominator*=a.denominator\n",
    "        self.remove_minus()\n",
    "        self.reduction()\n",
    "    # метод убирающий минус в знаменателе(переводит в числитиль) или убирающий минусы впринципе(если знаменатель и числитель отрицательны)\n",
    "    def remove_minus(self):\n",
    "        if (self.numerator < 0 and self.denominator < 0) or self.denominator<0:\n",
    "            self.numerator*=-1\n",
    "            self.denominator*=-1\n",
    "    # обращение\n",
    "    def obrash(self):\n",
    "        return self.numerator/self.denominator\n",
    "    # сокращает дробь, если это возможно\n",
    "    def reduction(self):\n",
    "        a = gcd(self.numerator,self.denominator)\n",
    "        while a != 1:\n",
    "            self.numerator//=a\n",
    "            self.denominator//=a\n",
    "            a = gcd(self.numerator,self.denominator)\n",
    "\n",
    "a = Frac(1,2)\n",
    "a.sum(Frac(1,3))\n",
    "a.print_me()\n",
    "a.multiply(Frac(20,41))\n",
    "a.print_me()"
   ]
  },
  {
   "cell_type": "markdown",
   "metadata": {},
   "source": [
    " Создайте класс Descr, типичный экземпляр которого является кортежем из четырех пар чисел – координат четырехугольника. Опишите методы этого класса, позволяющие установить равенство четырехугольников и их подобие."
   ]
  },
  {
   "cell_type": "code",
   "execution_count": null,
   "metadata": {},
   "outputs": [],
   "source": [
    "class Descr:\n",
    "    coord = None\n",
    "    lengths = []\n",
    "    def __init__(self,\n",
    "                 a:tuple) -> None:\n",
    "        # рассчитываю на то что все координаты стоящие рядом связанны между собой\n",
    "        self.coord = a\n",
    "        # вычисляю длину всех сторон\n",
    "        self.lengths.append(self.length_of(a[0],a[3]))\n",
    "        for i in range(0,3):\n",
    "            self.lengths.append(self.length_of(a[i],a[i+1]))\n",
    "        pass\n",
    "    # вычислние длины по координатам\n",
    "    def length_of(self, a, b) -> float:\n",
    "        return ((a[0]-b[0])**2+(a[1]-b[1])**2)**0.5\n",
    "    # равны ли четырехугольники\n",
    "    def is_equal(self,a) -> bool:\n",
    "        # проверяю что все стороны равны\n",
    "        for i in range(4):\n",
    "            if a.lengths[i] != self.lengths[i]:\n",
    "                return False\n",
    "        return True\n",
    "    # подобны ли\n",
    "    def is_similar(self, a) -> bool:\n",
    "        # Сортирую длины\n",
    "        a.lengths = sorted(a.lengths)\n",
    "        b = sorted(self.lengths)\n",
    "        # Сравниваю подобны ли они\n",
    "        for i in range(3):\n",
    "            if b[i]/a.lengths[i] != b[i+1]/a.lengths[i+1]:\n",
    "                return False\n",
    "        return True"
   ]
  },
  {
   "cell_type": "markdown",
   "metadata": {},
   "source": [
    "Напишите функцию, которая вычисляет векторное произведение в 3-мерном пространстве. "
   ]
  },
  {
   "cell_type": "code",
   "execution_count": 16,
   "metadata": {},
   "outputs": [
    {
     "name": "stdout",
     "output_type": "stream",
     "text": [
      "(-3, 6, -3)\n"
     ]
    }
   ],
   "source": [
    "def multiply(a,b):\n",
    "    return (a[1]*b[2] - a[2]*b[1], a[2]*b[0]-a[0]*b[2], a[0]*b[1]-a[1]*b[0])\n",
    "\n",
    "print(multiply((1,2,3),(4,5,6)))"
   ]
  },
  {
   "cell_type": "markdown",
   "metadata": {},
   "source": [
    "Напишите функцию для вычисления определителя матрицы произвольной размерности (матрица задается как двухуровневый список). Обработайте некорректный аргумент."
   ]
  },
  {
   "cell_type": "code",
   "execution_count": 17,
   "metadata": {},
   "outputs": [
    {
     "name": "stdout",
     "output_type": "stream",
     "text": [
      "-1.999999999999997\n"
     ]
    }
   ],
   "source": [
    "# вычислил методом треугольника/гаусса\n",
    "def calculate_determinant(a):\n",
    "    # Проверка корректности информации\n",
    "    for i in range(len(a)):\n",
    "        if len(a[i])!=len(a):\n",
    "            print(\"incorrect data\")\n",
    "            return\n",
    "    # столбец\n",
    "    j = 0\n",
    "    # строка\n",
    "    i = 0 \n",
    "    # коофициент(низже показано зачем он нужен)\n",
    "    k=1\n",
    "    # прохожусь с первой строки до предпоследней\n",
    "    while i < len(a)-1:\n",
    "        # если элемент не равен нулю\n",
    "        if a[i][j]!=0:\n",
    "            # зануляем столбец\n",
    "            for d in range(i+1,len(a)):\n",
    "                a[d] = calculate_sub(a[d],calculate_multiply(a[i],a[d][j]/a[i][j]))\n",
    "            j+=1\n",
    "            i+=1\n",
    "        # если строка равна нулю\n",
    "        else:\n",
    "            # находим не нулевую элемент в другой строке\n",
    "            for d in range(i+1,len(a)):\n",
    "                # если находим то меняем местами\n",
    "                if a[d][j]!=0:\n",
    "                    buf = a[i].copy()\n",
    "                    a[i] = a[d]\n",
    "                    a[d] = buf\n",
    "                    # и умножаем коофициент на -1, так как при перемещении столбцов определител меняет знак\n",
    "                    k*=-1\n",
    "                    break\n",
    "                # если мы на последней строке а эллмент все равно равен нулю, значит весь столбец нулевой, следовательно определитель равен нулю\n",
    "                if d == len(a)-1 and a[d][j]==0:\n",
    "                    return 0\n",
    "    # вычисляем определитель\n",
    "    res = 1\n",
    "    for i in range(len(a)):\n",
    "        res*=a[i][i]\n",
    "    # домножаем его на коофициент чтобы не потерять знак\n",
    "    return res*k\n",
    "\n",
    "# вычитает сроку a из b\n",
    "def calculate_sub(a,b):\n",
    "    res = [0]*len(a)\n",
    "    for i in range(len(a)):\n",
    "        res[i]= a[i]-b[i]\n",
    "    return res\n",
    "\n",
    "# умножает строку a на число n\n",
    "def calculate_multiply(a,n):\n",
    "    res = []\n",
    "    for i in a:\n",
    "        res.append(i*n)\n",
    "    return res\n",
    "\n",
    "print(calculate_determinant([[3,4,5],\n",
    "                             [2,3,1],\n",
    "                             [4,5,7]]))"
   ]
  }
 ],
 "metadata": {
  "kernelspec": {
   "display_name": "Python 3",
   "language": "python",
   "name": "python3"
  },
  "language_info": {
   "codemirror_mode": {
    "name": "ipython",
    "version": 3
   },
   "file_extension": ".py",
   "mimetype": "text/x-python",
   "name": "python",
   "nbconvert_exporter": "python",
   "pygments_lexer": "ipython3",
   "version": "3.10.0"
  }
 },
 "nbformat": 4,
 "nbformat_minor": 2
}
